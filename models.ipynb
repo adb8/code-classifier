{
 "cells": [
  {
   "cell_type": "code",
   "execution_count": 81,
   "metadata": {},
   "outputs": [],
   "source": [
    "import pandas as pd\n",
    "import numpy as np\n",
    "\n",
    "from sklearn.feature_extraction.text import CountVectorizer\n",
    "from sklearn.model_selection import train_test_split\n",
    "from sklearn.metrics import accuracy_score\n",
    "from sklearn.decomposition import PCA\n",
    "from sklearn.linear_model import LogisticRegression\n",
    "from sklearn.naive_bayes import GaussianNB\n",
    "from sklearn.neighbors import KNeighborsClassifier\n",
    "from sklearn import svm\n",
    "\n",
    "import joblib\n",
    "import tensorflow as tf\n",
    "import matplotlib.pyplot as plt\n",
    "from matplotlib.colors import ListedColormap\n",
    "\n",
    "from prepare import remove_strings_from_input_print, remove_strings_from_quotes, remove_variables, remove_functions, remove_numbers, remove_escape_chars, remove_symbols, remove_extra_space, lowercase_strings, prepare_code"
   ]
  },
  {
   "cell_type": "code",
   "execution_count": null,
   "metadata": {},
   "outputs": [],
   "source": [
    "pd.set_option('display.max_colwidth', None)\n",
    "secure_df = pd.read_csv(\"snippets/secure.csv\", sep=\";\")\n",
    "insecure_df = pd.read_csv(\"snippets/insecure.csv\", sep=\";\")\n",
    "df = pd.concat([secure_df, insecure_df], axis=0)"
   ]
  },
  {
   "cell_type": "code",
   "execution_count": null,
   "metadata": {},
   "outputs": [],
   "source": [
    "df[\"code-cleaned\"] = (\n",
    "    df[\"Code\"]\n",
    "    .apply(lambda snippet: remove_strings_from_input_print(snippet))\n",
    "    .apply(lambda snippet: remove_strings_from_quotes(snippet))\n",
    "    .apply(lambda snippet: remove_variables(snippet))\n",
    "    .apply(lambda snippet: remove_functions(snippet))\n",
    "    .apply(lambda snippet: remove_numbers(snippet))\n",
    "    .apply(lambda snippet: remove_symbols(snippet))\n",
    "    .apply(lambda snippet: remove_extra_space(snippet))\n",
    "    .apply(lambda snippet: lowercase_strings(snippet))\n",
    ")\n",
    "df.head()"
   ]
  },
  {
   "cell_type": "code",
   "execution_count": null,
   "metadata": {},
   "outputs": [],
   "source": [
    "def tokenizer(document):\n",
    "    return document.split()\n",
    "\n",
    "document_arr = []\n",
    "for index, row in df.iterrows():\n",
    "    document_arr.append(row[\"code-cleaned\"])\n",
    "\n",
    "vectorizer = CountVectorizer(tokenizer=tokenizer)\n",
    "vectorizer.fit(document_arr)\n",
    "feature_names = vectorizer.get_feature_names_out()\n",
    "X = vectorizer.transform(document_arr)\n",
    "\n",
    "word_counts = X.sum(axis=0)\n",
    "filtered_words = [\n",
    "    word\n",
    "    for word, count in zip(vectorizer.get_feature_names_out(), word_counts.tolist()[0])\n",
    "    if count > 1\n",
    "]\n",
    "\n",
    "new_vectorizer = CountVectorizer(vocabulary=filtered_words)\n",
    "X_new = new_vectorizer.fit_transform(document_arr)\n",
    "new_feature_names = new_vectorizer.get_feature_names_out()\n",
    "df_bow = pd.DataFrame(X_new.toarray(), columns=new_feature_names)\n",
    "df_bow.head()"
   ]
  },
  {
   "cell_type": "code",
   "execution_count": null,
   "metadata": {},
   "outputs": [],
   "source": [
    "X = df_bow.values\n",
    "y = df[\"Label\"].values\n",
    "X_train, X_test, y_train, y_test = train_test_split(\n",
    "    X, y, test_size=0.3,\n",
    ")"
   ]
  },
  {
   "cell_type": "code",
   "execution_count": null,
   "metadata": {},
   "outputs": [],
   "source": [
    "def numerize_y_labels(y):\n",
    "    label_mapping = {\"Secure\": 1, \"Insecure\": 0}\n",
    "    y_train_numeric = np.vectorize(label_mapping.get)(y)\n",
    "    return y_train_numeric\n",
    "    \n",
    "def unnumerize_y_labels(y_labels, threshold=0.5):\n",
    "    labels = []\n",
    "    for prob in y_labels:\n",
    "        if prob >= threshold:\n",
    "            labels.append(\"Secure\")\n",
    "        else:\n",
    "            labels.append(\"Insecure\")\n",
    "    return labels"
   ]
  },
  {
   "cell_type": "code",
   "execution_count": null,
   "metadata": {},
   "outputs": [],
   "source": [
    "k = 10\n",
    "knn_model = KNeighborsClassifier(n_neighbors=10, metric=\"euclidean\")\n",
    "knn_model.fit(X_train, y_train)\n",
    "y_pred = knn_model.predict(X_test)\n",
    "accuracy = accuracy_score(y_test, y_pred)\n",
    "print(f\"Accuracy: {accuracy}\")"
   ]
  },
  {
   "cell_type": "code",
   "execution_count": null,
   "metadata": {},
   "outputs": [],
   "source": [
    "svm_model = svm.SVC(kernel='linear')\n",
    "svm_model.fit(X_train, y_train)\n",
    "y_pred = svm_model.predict(X_test)\n",
    "accuracy = accuracy_score(y_test, y_pred)\n",
    "print(f\"Accuracy: {accuracy}\")"
   ]
  },
  {
   "cell_type": "code",
   "execution_count": null,
   "metadata": {},
   "outputs": [],
   "source": [
    "nb_model = GaussianNB()\n",
    "nb_model.fit(X_train, y_train)\n",
    "y_pred = nb_model.predict(X_test)\n",
    "accuracy = accuracy_score(y_pred, y_test)\n",
    "print(f\"Accuracy: {accuracy}\")"
   ]
  },
  {
   "cell_type": "code",
   "execution_count": null,
   "metadata": {},
   "outputs": [],
   "source": [
    "lr_model = LogisticRegression()\n",
    "lr_model.fit(X_train, y_train)\n",
    "y_pred = lr_model.predict(X_test)\n",
    "accuracy = accuracy_score(y_test, y_pred)\n",
    "print(f\"Accuracy: {accuracy}\")"
   ]
  },
  {
   "cell_type": "code",
   "execution_count": null,
   "metadata": {},
   "outputs": [],
   "source": [
    "pca = PCA(n_components=2)\n",
    "X_train_pca = pca.fit_transform(X_train)\n",
    "colors = ['red' if label == \"Secure\" else 'blue' for label in y_train]\n",
    "xlim = (-5, 20)\n",
    "ylim = (-10, 15)\n",
    "fig, axes = plt.subplots(2, 2, figsize=(12, 12))\n",
    "\n",
    "ax = axes[0, 0]\n",
    "ax.scatter(X_train_pca[:, 0], X_train_pca[:, 1], c=colors, edgecolors='k', linewidths=0, alpha=0.6)\n",
    "ax.set_ylim(ylim)\n",
    "ax.set_xlim(xlim)\n",
    "ax.set_xticks([])\n",
    "ax.set_yticks([])\n",
    "ax.set_title(\"K Nearest Neighbors\")\n",
    "\n",
    "ax = axes[0, 1]\n",
    "ax.scatter(X_train_pca[:, 0], X_train_pca[:, 1], c=colors, edgecolors='k', linewidth=0, alpha=0.5)\n",
    "xx = np.linspace(xlim[0], xlim[1], 30)\n",
    "yy = np.linspace(ylim[0], ylim[1], 30)\n",
    "YY, XX = np.meshgrid(yy, xx)\n",
    "xy = np.vstack([XX.ravel(), YY.ravel()]).T\n",
    "Z = svm_model.decision_function(pca.inverse_transform(xy)).reshape(XX.shape)\n",
    "ax.contour(XX, YY, Z, colors='k', levels=[-1, 0, 1], alpha=0.6, linestyles=['--', '-', '--'])\n",
    "support_vectors_pca = pca.transform(svm_model.support_vectors_)\n",
    "ax.scatter(support_vectors_pca[:, 0], support_vectors_pca[:, 1], linewidth=0, facecolors='none', edgecolors='k')\n",
    "ax.set_xlim(xlim)\n",
    "ax.set_ylim(ylim)\n",
    "ax.set_xticks([])\n",
    "ax.set_yticks([])\n",
    "ax.set_title(\"Support Vector Machines\")\n",
    "\n",
    "ax = axes[1, 0]\n",
    "nb_model_vis = GaussianNB()\n",
    "nb_model_vis.fit(np.array(X_train_pca), numerize_y_labels(y_train))\n",
    "xx, yy = np.meshgrid(np.arange(xlim[0], xlim[1], 0.1), np.arange(ylim[0], ylim[1], 0.1))\n",
    "Z = nb_model_vis.predict(np.c_[xx.ravel(), yy.ravel()]).reshape(xx.shape)\n",
    "cmap_light = ListedColormap(['blue', 'red'])\n",
    "ax.pcolormesh(xx, yy, Z, cmap=cmap_light, alpha=0.2)\n",
    "ax.scatter(X_train_pca[:, 0], X_train_pca[:, 1], c=colors, edgecolors='k', linewidth=0, alpha=0.6, facecolors='none')\n",
    "ax.set_xlim(xlim)\n",
    "ax.set_ylim(ylim)\n",
    "ax.set_xticks([])\n",
    "ax.set_yticks([])\n",
    "ax.set_title(\"Naive Bayes\")\n",
    "\n",
    "ax = axes[1, 1]\n",
    "ax.scatter(X_train_pca[:, 0], X_train_pca[:, 1], c=colors, alpha=0.6, linewidth=0)\n",
    "coef = lr_model.coef_[0]\n",
    "x_vals = np.linspace(min(X_train_pca[:, 0]), max(X_train_pca[:, 0]), 100)\n",
    "y_vals = -(coef[0] / coef[1]) * x_vals - (lr_model.intercept_ / coef[1])\n",
    "ax.plot(x_vals, y_vals, 'k--')\n",
    "ax.set_xlim(xlim)\n",
    "ax.set_ylim(ylim)\n",
    "ax.set_xticks([])\n",
    "ax.set_yticks([])\n",
    "ax.set_title('Logistic Regression')\n",
    "\n",
    "plt.tight_layout()\n",
    "plt.show()"
   ]
  },
  {
   "cell_type": "code",
   "execution_count": null,
   "metadata": {},
   "outputs": [],
   "source": [
    "joblib.dump(new_vectorizer, 'models/conven/vectorizer.joblib')\n",
    "joblib.dump(new_feature_names, 'models/conven/feature_names.joblib')\n",
    "joblib.dump(knn_model, 'models/conven/knn_model.joblib')\n",
    "joblib.dump(svm_model, 'models/conven/svm_model.joblib')\n",
    "joblib.dump(nb_model, 'models/conven/nb_model.joblib')\n",
    "joblib.dump(lr_model, 'models/conven/lr_model.joblib')"
   ]
  },
  {
   "cell_type": "code",
   "execution_count": null,
   "metadata": {},
   "outputs": [],
   "source": [
    "def plot_loss_and_accuracy(history):\n",
    "    fig, (ax1, ax2) = plt.subplots(1, 2, figsize=(12, 5))\n",
    "\n",
    "    ax1.plot(history['loss'], label='loss')\n",
    "    ax1.plot(history['val_loss'], label='val_loss')\n",
    "    ax1.set_xlabel('Epoch')\n",
    "    ax1.set_ylabel('Binary crossentropy')\n",
    "    ax1.set_title('Loss')\n",
    "    ax1.grid(True)\n",
    "    ax1.legend()\n",
    "\n",
    "    ax2.plot(history['accuracy'], label='accuracy')\n",
    "    ax2.plot(history['val_accuracy'], label='val_accuracy')\n",
    "    ax2.set_xlabel('Epoch')\n",
    "    ax2.set_ylabel('Accuracy')\n",
    "    ax2.set_title('Accuracy')\n",
    "    ax2.grid(True)\n",
    "    ax2.legend()\n",
    "\n",
    "    plt.tight_layout()\n",
    "    plt.show()\n"
   ]
  },
  {
   "cell_type": "code",
   "execution_count": null,
   "metadata": {},
   "outputs": [],
   "source": [
    "X_train, X_test, y_train, y_test = train_test_split(\n",
    "    X, y, test_size=0.2, random_state=20\n",
    ")\n",
    "X_train, X_val, y_train, y_val = train_test_split(\n",
    "    X_train, y_train, test_size=0.2, random_state=20\n",
    ")"
   ]
  },
  {
   "cell_type": "code",
   "execution_count": null,
   "metadata": {},
   "outputs": [],
   "source": [
    "def train_model(X_train, y_train, X_val, y_val, num_nodes, dropout_prob, lr, batch_size, epochs):\n",
    "    nn_model = tf.keras.Sequential([\n",
    "        tf.keras.layers.Dense(num_nodes, activation=\"relu\", input_shape=(df_bow.shape[1],)),\n",
    "        tf.keras.layers.Dropout(dropout_prob),\n",
    "        tf.keras.layers.Dense(num_nodes, activation=\"relu\"),\n",
    "        tf.keras.layers.Dropout(dropout_prob),\n",
    "        tf.keras.layers.Dense(1, activation=\"sigmoid\"),\n",
    "    ])\n",
    "\n",
    "    nn_model.compile(optimizer=tf.keras.optimizers.Adam(lr), loss=\"binary_crossentropy\", metrics=[\"accuracy\"])\n",
    "    history = nn_model.fit(X_train, y_train, epochs=epochs, batch_size=batch_size, validation_data=(X_val, y_val), verbose=0)\n",
    "    return nn_model, history"
   ]
  },
  {
   "cell_type": "code",
   "execution_count": null,
   "metadata": {},
   "outputs": [],
   "source": [
    "num_nodes = 4\n",
    "dropout = 0.1\n",
    "learning_rate = 0.001\n",
    "batch_size = 16\n",
    "epochs = 50\n",
    "model, history = train_model(X_train, numerize_y_labels(y_train), X_val, numerize_y_labels(y_val), num_nodes, dropout, learning_rate, batch_size, epochs)\n",
    "plot_loss_and_accuracy(history.history)"
   ]
  },
  {
   "cell_type": "code",
   "execution_count": null,
   "metadata": {},
   "outputs": [],
   "source": [
    "tf.keras.models.save_model(model, \"models/neural/\")\n",
    "joblib.dump(history.history, \"models/neural/history.joblib\")"
   ]
  },
  {
   "cell_type": "code",
   "execution_count": null,
   "metadata": {},
   "outputs": [],
   "source": [
    "nn_model = tf.keras.models.load_model('models/neural/')\n",
    "history = joblib.load(\"models/neural/history.joblib\")\n",
    "\n",
    "y_pred = nn_model.predict(X_test)\n",
    "accuracy = accuracy_score(y_test, unnumerize_y_labels(y_pred))\n",
    "print(\"Accuracy:\", accuracy)\n",
    "\n",
    "history = joblib.load(\"models/neural/history.joblib\")\n",
    "plot_loss_and_accuracy(history)"
   ]
  },
  {
   "cell_type": "code",
   "execution_count": null,
   "metadata": {},
   "outputs": [],
   "source": [
    "least_val_loss = float(\"inf\")\n",
    "least_loss_model, least_loss_history = None, None\n",
    "best_epochs, best_num_nodes, best_dropout_prob, best_lr = None, None, None, None\n",
    "for epochs in [50]:\n",
    "    for num_nodes in [4, 6, 8]:\n",
    "        for dropout_prob in [0.1, 0.2, 0.3]:\n",
    "            for lr in [0.1, 0.005, 0.001]:\n",
    "                print(f\"{num_nodes} nodes, {dropout_prob} dropout, {lr} lr, batch size {batch_size}, {epochs} epochs\")\n",
    "                model, history = train_model(X_train, numerize_y_labels(y_train), X_val, numerize_y_labels(y_val), num_nodes, dropout_prob, lr, 32, epochs)\n",
    "                plot_loss_and_accuracy(history)\n",
    "                val_loss = model.evaluate(X_val, numerize_y_labels(y_val))[0]\n",
    "                if val_loss < least_val_loss:\n",
    "                    least_val_loss = val_loss\n",
    "                    least_loss_model = model\n",
    "                    least_loss_history = history\n",
    "                    best_epochs, best_num_nodes, best_dropout_prob, best_lr = epochs, num_nodes, dropout_prob, lr\n",
    "\n",
    "print(f\"Best model: {best_num_nodes} nodes, {best_dropout_prob} dropout, {best_lr} lr, {best_epochs} epochs\")\n",
    "plot_loss_and_accuracy(least_loss_history)"
   ]
  }
 ],
 "metadata": {
  "kernelspec": {
   "display_name": "Python 3",
   "language": "python",
   "name": "python3"
  },
  "language_info": {
   "codemirror_mode": {
    "name": "ipython",
    "version": 3
   },
   "file_extension": ".py",
   "mimetype": "text/x-python",
   "name": "python",
   "nbconvert_exporter": "python",
   "pygments_lexer": "ipython3",
   "version": "3.11.4"
  },
  "orig_nbformat": 4
 },
 "nbformat": 4,
 "nbformat_minor": 2
}
